{
 "cells": [
  {
   "cell_type": "markdown",
   "id": "f64578e9-96a7-41d4-9391-e15f07832982",
   "metadata": {},
   "source": [
    "# ⭐ IBM Data Science Professional"
   ]
  },
  {
   "cell_type": "markdown",
   "id": "6e1d08ef-ae8b-4fc5-8abf-18cc530559ce",
   "metadata": {},
   "source": [
    "The **IBM Data Science Professional Certificate** is a comprehensive program designed to teach essential data science skills, including Python programming, data analysis, machine learning, and data visualization, through hands-on projects and real-world applications."
   ]
  },
  {
   "cell_type": "markdown",
   "id": "545bc642-6197-4ba8-a0a3-28a2c5d94ed7",
   "metadata": {},
   "source": [
    "It is a *12* course program."
   ]
  },
  {
   "cell_type": "markdown",
   "id": "eac2e78f-e405-45bf-b557-50fb6a2f0757",
   "metadata": {},
   "source": [
    "## 📚 Course 2: Tools for Data Science"
   ]
  },
  {
   "cell_type": "markdown",
   "id": "317714ab-adec-428c-a688-6abaf0304a69",
   "metadata": {},
   "source": [
    "### Module 6: Create and Share Your Jupyter Notebook"
   ]
  },
  {
   "cell_type": "markdown",
   "id": "c69dc261-36c6-4354-b8d4-0945af71a446",
   "metadata": {},
   "source": [
    "---"
   ]
  },
  {
   "cell_type": "markdown",
   "id": "1d7727bf-cced-4b2f-b44f-22eadb9d7469",
   "metadata": {},
   "source": [
    "Common languages: Python, R, Scala, Java, Julia, and SQL."
   ]
  },
  {
   "cell_type": "markdown",
   "id": "1ecfabe8-203b-4128-bc4e-130c09436959",
   "metadata": {},
   "source": [
    "# Data Science Tools and Ecosystem"
   ]
  },
  {
   "cell_type": "markdown",
   "id": "8b5ef87f-7575-4e77-b254-5edef5b5a0d4",
   "metadata": {},
   "source": [
    "In this notebook, Data Science Tools and Ecosystem are summarized."
   ]
  },
  {
   "cell_type": "markdown",
   "id": "7105d8aa-6bc6-416a-905b-92ad92e61dc3",
   "metadata": {},
   "source": [
    "**Some of the popular languages that Data Scientists use are:**\n",
    "1. Python\n",
    "2. R\n",
    "3. Scala\n",
    "4. Java\n",
    "5. Julia\n",
    "6. SQL"
   ]
  },
  {
   "cell_type": "markdown",
   "id": "700861aa-cf56-41e5-a3b3-f6e1d395b9bd",
   "metadata": {},
   "source": [
    "**Some of the commonly used libraries used by Data Scientists include:**\n",
    "1. PyTorch\n",
    "2. TensorFlow\n",
    "3. SciPy\n",
    "4. Numpy\n",
    "5. Pandas\n",
    "6. Matplotlib"
   ]
  },
  {
   "cell_type": "markdown",
   "id": "b9aa8faf-80d9-4e2f-b12e-6e06a3821219",
   "metadata": {},
   "source": [
    "**Data Science Tools**"
   ]
  },
  {
   "cell_type": "markdown",
   "id": "6e26783c-11df-4ae8-a7b4-14e674f320d3",
   "metadata": {},
   "source": [
    "| **Data Science Tools** |\n",
    "|:-----------------------:|\n",
    "| Jupyter Notebook        |\n",
    "| RStudio                |\n",
    "| Apache Spark           |"
   ]
  },
  {
   "cell_type": "markdown",
   "id": "61f1f13d-bbc5-4fc1-8255-e599af946e64",
   "metadata": {},
   "source": [
    "### Below are a few examples of evaluating arithmetic expressions in Python"
   ]
  },
  {
   "cell_type": "code",
   "execution_count": 2,
   "id": "2228494d-74f9-4304-927c-7146df185ed5",
   "metadata": {},
   "outputs": [
    {
     "name": "stdout",
     "output_type": "stream",
     "text": [
      "17\n",
      "True\n"
     ]
    }
   ],
   "source": [
    "# This a simple arithmetic expression to mutiply then add integers\n",
    "eval = (3*4)+5\n",
    "print(eval)\n",
    "print(eval==17)"
   ]
  },
  {
   "cell_type": "code",
   "execution_count": 3,
   "id": "5d9cf47e-4aad-4702-b2d0-4ae9c2814ac2",
   "metadata": {},
   "outputs": [
    {
     "name": "stdout",
     "output_type": "stream",
     "text": [
      "33.333333333333336\n"
     ]
    }
   ],
   "source": [
    "# This will convert 200 minutes to hours by diving by 60\n",
    "print(200 / 6)"
   ]
  },
  {
   "cell_type": "markdown",
   "id": "0a346652-c5c6-4eff-bbc0-5da0c89d0bd3",
   "metadata": {},
   "source": [
    "**Objectives:** List popular languages for Data Science\n",
    "- Python\n",
    "- SQL\n",
    "- R"
   ]
  },
  {
   "cell_type": "markdown",
   "id": "4c666932-be6f-4445-a61a-c0e01bc7ff65",
   "metadata": {},
   "source": [
    "## Author"
   ]
  },
  {
   "cell_type": "markdown",
   "id": "fd20ac9d-27d3-490b-ab0f-66b6c12fc708",
   "metadata": {},
   "source": [
    "name: Kye Andrei Buhay"
   ]
  },
  {
   "cell_type": "code",
   "execution_count": null,
   "id": "cedcfb12-d95d-4e12-a4a3-157176d07129",
   "metadata": {},
   "outputs": [],
   "source": []
  }
 ],
 "metadata": {
  "kernelspec": {
   "display_name": "Python 3 (ipykernel)",
   "language": "python",
   "name": "python3"
  },
  "language_info": {
   "codemirror_mode": {
    "name": "ipython",
    "version": 3
   },
   "file_extension": ".py",
   "mimetype": "text/x-python",
   "name": "python",
   "nbconvert_exporter": "python",
   "pygments_lexer": "ipython3",
   "version": "3.12.1"
  }
 },
 "nbformat": 4,
 "nbformat_minor": 5
}
