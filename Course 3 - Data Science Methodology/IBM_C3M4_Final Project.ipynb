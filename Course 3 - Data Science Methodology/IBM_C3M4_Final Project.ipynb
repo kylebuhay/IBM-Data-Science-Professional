{
 "cells": [
  {
   "cell_type": "markdown",
   "id": "f64578e9-96a7-41d4-9391-e15f07832982",
   "metadata": {},
   "source": [
    "# ⭐ IBM Data Science Professional"
   ]
  },
  {
   "cell_type": "markdown",
   "id": "6e1d08ef-ae8b-4fc5-8abf-18cc530559ce",
   "metadata": {},
   "source": [
    "The **IBM Data Science Professional Certificate** is a comprehensive program designed to teach essential data science skills, including Python programming, data analysis, machine learning, and data visualization, through hands-on projects and real-world applications."
   ]
  },
  {
   "cell_type": "markdown",
   "id": "545bc642-6197-4ba8-a0a3-28a2c5d94ed7",
   "metadata": {},
   "source": [
    "It is a *12* course program."
   ]
  },
  {
   "cell_type": "markdown",
   "id": "eac2e78f-e405-45bf-b557-50fb6a2f0757",
   "metadata": {},
   "source": [
    "## 📚 Course 3: Data Science Methodology\n",
    "### Module 4: Final Assignment"
   ]
  },
  {
   "cell_type": "markdown",
   "id": "c69dc261-36c6-4354-b8d4-0945af71a446",
   "metadata": {},
   "source": [
    "---"
   ]
  },
  {
   "cell_type": "markdown",
   "id": "40723080-cd25-4d82-b8e5-5f9cf2ceef5e",
   "metadata": {},
   "source": [
    "First, you'll take on both the role of the client and the data scientist to develop a business problem related to one of the following topics:\n",
    "1. Emails\n",
    "2. Hospitals\n",
    "3. Credit Cards"
   ]
  },
  {
   "cell_type": "markdown",
   "id": "baf12104-6c89-422a-ac4b-ebdfb9548929",
   "metadata": {},
   "source": [
    "You'll use the business problem you defined to demonstrate your knowledge of the Business Understanding stage."
   ]
  },
  {
   "cell_type": "markdown",
   "id": "1ae36d3f-4534-4728-a973-630f911cf196",
   "metadata": {},
   "source": [
    "Then, taking on the role of a data scientist, you'll describe how you would apply data science methodology practices at each of the the listed stages to address the business problem you identified."
   ]
  },
  {
   "cell_type": "markdown",
   "id": "66119063-5b63-4da7-821e-b3ab88159ae5",
   "metadata": {},
   "source": [
    "#### Which topic did you choose to apply the data science methodology to?"
   ]
  },
  {
   "cell_type": "markdown",
   "id": "ddc290e1-2634-402c-ab38-fc4c9330e22a",
   "metadata": {},
   "source": [
    "✍🏼 \n",
    "\n",
    "I chose to apply the data science methodology to hospitals. Compared to emails and credit cards, I have more knowledge on how hospitals operate.\n",
    "\n",
    "Hospitals has an important role in society. With this, they face a lot of challenges in managing its resources in a daily basis. Data science can help address these issues and improve outcomes for hospital's staff and patients."
   ]
  },
  {
   "cell_type": "markdown",
   "id": "93409600-4bbd-408f-8d8e-fb5fce8baa51",
   "metadata": {},
   "source": [
    "#### Next, you will play the role of the client and the data scientist. "
   ]
  },
  {
   "cell_type": "markdown",
   "id": "f3787aa7-d240-44b3-baa0-d837d439bd61",
   "metadata": {},
   "source": [
    "Using the topic that you selected, complete the Business Understanding stage by coming up with a problem that you would like to solve and phrasing it in the form of a question that you will use data to answer."
   ]
  },
  {
   "cell_type": "markdown",
   "id": "cb48c8f0-af34-43fd-a64a-9d6facaff55b",
   "metadata": {},
   "source": [
    "You are required to:\n",
    "1. Describe the problem, related to the topic you selected.\n",
    "2. Phrase the problem as a question to be answered using data."
   ]
  },
  {
   "cell_type": "markdown",
   "id": "f9e3a957-e441-4959-8ff1-c160a7b8086a",
   "metadata": {},
   "source": [
    "✍🏼 \n",
    "\n",
    "**Problem:** Hospitals face challenges in efficiently allocating resources. For instance, beds, staff, and medical equipment, can often struggle to meet the patient's demand. As a result, it leads to overcrowding, underutilization, and delays in patient care.\n",
    "\n",
    "**Question:** *How can hospitals predict patient admission rates and optimize resource allocation to ensure efficient patient care?*"
   ]
  },
  {
   "cell_type": "markdown",
   "id": "3090e832-5de0-4b36-9346-dcf1995e4d30",
   "metadata": {},
   "source": [
    "#### Business Understanding"
   ]
  },
  {
   "cell_type": "markdown",
   "id": "d77c06dc-de08-4bf5-9522-e2b13ccca27e",
   "metadata": {},
   "source": [
    "Briefly explain how you would complete each of the following stages for the problem that you described in the Business Understanding stage, so that you are ultimately able to answer the question that you came up with.\n",
    "1. Analytic Approach\n",
    "2. Data Requirements\n",
    "3. Data Collection\n",
    "4. Data Understanding and Preparation\n",
    "5. Modeling and Evaluation"
   ]
  },
  {
   "cell_type": "markdown",
   "id": "04e52be6-4e26-4351-9b41-b65b9fb7cb6c",
   "metadata": {},
   "source": [
    "✍🏼 \n",
    "1. **Analytic Approach:** I would use a predictive analytics approach by building a model that forecasts patient admission rates based on historical data. This will include factors like time of year, population counts, and events.\n",
    "2. **Data Requirements:**\n",
    "   - Historical patient admission records.\n",
    "   - Data on hospital resource usage (beds, staff, equipment).\n",
    "   - External factors such as seasonal trends, local demographics, and public health incidents.\n",
    "   - Operational data like staff schedules and bed availability.\n",
    "3. **Data Collection:** Data from hospital records, logs, and also external datasets (like public health statistics). Data must also comply with privacy regulations and standards.\n",
    "4. **Data Understanding and Preparation:**\n",
    "   - Data Understanding: Explore the data to identify trends, patterns, and anomalies. Check for missing values, inconsistencies, and possible sources of biases.\n",
    "   - Data Preparation: Clean and preprocess the data by handling missing values, standardizing formats, and creating relevant features.\n",
    "5. **Modeling and Evaluation:**\n",
    "   - Modeling: Use machine learning models, e.g., time-series forecasting models like ARIMA, to predict patient admission rates.\n",
    "   - Evaluation: Validate model performance using metrics such as Mean Absolute Error (MAE) or Root Mean Square Error (RMSE)."
   ]
  }
 ],
 "metadata": {
  "kernelspec": {
   "display_name": "Python 3 (ipykernel)",
   "language": "python",
   "name": "python3"
  },
  "language_info": {
   "codemirror_mode": {
    "name": "ipython",
    "version": 3
   },
   "file_extension": ".py",
   "mimetype": "text/x-python",
   "name": "python",
   "nbconvert_exporter": "python",
   "pygments_lexer": "ipython3",
   "version": "3.12.1"
  }
 },
 "nbformat": 4,
 "nbformat_minor": 5
}
